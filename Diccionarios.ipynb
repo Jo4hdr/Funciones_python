{
  "nbformat": 4,
  "nbformat_minor": 0,
  "metadata": {
    "colab": {
      "provenance": [],
      "authorship_tag": "ABX9TyPpTq7yOkBKu2WKFa/Xnbwg",
      "include_colab_link": true
    },
    "kernelspec": {
      "name": "python3",
      "display_name": "Python 3"
    },
    "language_info": {
      "name": "python"
    }
  },
  "cells": [
    {
      "cell_type": "markdown",
      "metadata": {
        "id": "view-in-github",
        "colab_type": "text"
      },
      "source": [
        "<a href=\"https://colab.research.google.com/github/Jo4hdr/Funciones_python/blob/main/Diccionarios.ipynb\" target=\"_parent\"><img src=\"https://colab.research.google.com/assets/colab-badge.svg\" alt=\"Open In Colab\"/></a>"
      ]
    },
    {
      "cell_type": "markdown",
      "source": [
        "# Diccionarios\n",
        "\n",
        "- Son datos estructurados, es decir, hacen referencia a una coleccion de datos.\n",
        "-Son una coleccion desordenada de pares de datos de la forma clave:valor, conocidos como elemntos o items.\n",
        "- SOn mutables, por tanto, una vez definido un diccionario se le puede agregar nuevos elementos, modificar o eliminar algunos de los que ya tiene.\n",
        "- Tambien se les conoce como mapa de hash o arreglos asociativos.\n",
        "- En Python los diccionarios son de tipo dict y se utiliza la siguiente sintaxis para crear una variable de este tipo:\n",
        "\n",
        "`nombre_dict = {clave1:valor1, clave2:valor2, ...}`\n",
        "\n",
        "- Cada item o elemento tiene la forma clave:valor\n",
        "- En cada item hay una clave y uno mas valores. Si se desconoce el valor, se puede llenar con `None`\n",
        "-Los elementos del diccionario se indexan por la clave.\n",
        "- Las claves solo pueden ser datos inmutables.\n",
        "- Las claves no pueden repetirse dentro de un diccionario.\n",
        "\n"
      ],
      "metadata": {
        "id": "4a9Tk6IipaBF"
      }
    },
    {
      "cell_type": "code",
      "execution_count": 3,
      "metadata": {
        "colab": {
          "base_uri": "https://localhost:8080/"
        },
        "id": "1zSELGhepVVS",
        "outputId": "ef6f95c5-9c8b-4237-d4fb-5deff9c89662"
      },
      "outputs": [
        {
          "output_type": "stream",
          "name": "stdout",
          "text": [
            "{'ene': 1, 'feb': 2, 'mar': 3, 'abr': 4, 'may': 5, 'jun': 6, 'jul': 7, 'ago': 8, 'sep': 9, 'oct': 10, 'nov': 11, 'dic': 12}\n",
            "{1: 'ene', 2: 'feb', 3: 'mar', 4: 'abr', 5: 'may', 6: 'jun', 7: 'jul', 8: 'ago', 9: 'sep', 10: 'oct', 11: 'nov', 12: 'dic'}\n",
            "{'manzana': 34, 'pera': 45, 'uva': 23}\n",
            "{'manzana': 34, 'pera': 45, 'uva': 23, 'cereza': 90}\n",
            "{'manzana': 34, 'pera': 45, 'uva': 23, 'cereza': 100}\n",
            "{'manzana': 34, 'pera': 45, 'uva': 23}\n",
            "El valor de manzana es:  34\n",
            "No hay cereza\n",
            "El total de items del diccionario frutas es:  3\n",
            "Claves ordenadas:  ['manzana', 'pera', 'uva']\n",
            "Valores ordenados:  ['abr', 'ago', 'dic', 'ene', 'feb', 'jul', 'jun', 'mar', 'may', 'nov', 'oct', 'sep']\n",
            "Valores ordenados:  [1, 2, 3, 4, 5, 6, 7, 8, 9, 10, 11, 12]\n",
            "manzana -> 34\n",
            "pera -> 45\n",
            "uva -> 23\n",
            "Claves:  dict_keys(['manzana', 'pera', 'uva'])\n",
            "Valores:  dict_values([34, 45, 23])\n",
            "Items:  dict_items([('manzana', 34), ('pera', 45), ('uva', 23)])\n"
          ]
        }
      ],
      "source": [
        "# Diccionario con clave tipo cadena\n",
        "\n",
        "num_meses = {'ene':1, 'feb':2, 'mar':3, 'abr':4, 'may':5, 'jun':6, 'jul':7, 'ago':8, 'sep':9, 'oct':10, 'nov':11, 'dic':12}\n",
        "print(num_meses)\n",
        "\n",
        "nombre_meses = {1:'ene', 2:'feb', 3:'mar', 4:'abr', 5:'may', 6:'jun', 7:'jul', 8:'ago', 9:'sep', 10:'oct', 11:'nov', 12:'dic'}\n",
        "print(nombre_meses)\n",
        "\n",
        "frutas = {'manzana':34, 'pera':45, 'uva':23}\n",
        "print(frutas)\n",
        "\n",
        "# agregar elementos\n",
        "frutas['cereza'] =  90\n",
        "print(frutas)\n",
        "\n",
        "# modificar un elemento\n",
        "frutas['cereza'] = 100\n",
        "print(frutas)\n",
        "\n",
        "# eliminar un elemento\n",
        "del frutas['cereza']\n",
        "print(frutas)\n",
        "\n",
        "# construir valor dada una clave\n",
        "print('El valor de manzana es: ', frutas['manzana'])\n",
        "\n",
        "# operador de pertenencia: in\n",
        "if 'cereza' in frutas:\n",
        "    print('Si hay cereza')\n",
        "else:\n",
        "    print('No hay cereza')\n",
        "\n",
        "# funciones predefinidas\n",
        "\n",
        "#len: devuelve el total de items que tiene el diccionario\n",
        "print('El total de items del diccionario frutas es: ', len(frutas))\n",
        "\n",
        "# sorted: genera lista de claves ordenadas de menor a mayor\n",
        "print('Claves ordenadas: ', sorted(frutas))\n",
        "print('Valores ordenados: ', sorted(num_meses))\n",
        "print('Valores ordenados: ', sorted(nombre_meses))\n",
        "\n",
        "# Iteracion sobre diccionarios\n",
        "for clave in frutas:\n",
        "    print(clave, '->', frutas[clave])\n",
        "\n",
        "# Metodos keys(), values() e items()\n",
        "print('Claves: ', frutas.keys())\n",
        "print('Valores: ', frutas.values())\n",
        "print('Items: ', frutas.items())\n"
      ]
    },
    {
      "cell_type": "markdown",
      "source": [
        "## Ejercicio individual\n",
        "\n",
        "Cree un programa en Python que utlice diccionarios para guardar los nombres de sus compañeros de grupo y su numero de telefono. En este caso el diccionario representa una agenda telefonica. El programa pedira nombres y telefonos y los ira guardando en el diccionario. Ademas el programa debe permitir consultar o eliminar un telefono"
      ],
      "metadata": {
        "id": "q_aT84p_j2-w"
      }
    },
    {
      "cell_type": "code",
      "source": [
        "# Agenda telefonica\n",
        "\n",
        "agenda = {}\n",
        "while True:\n",
        "    print('1. Agregar un telefono')\n",
        "    print('2. Consultar un telefono')\n",
        "    print('3. Eliminar')\n",
        "    print('4. Salir')\n",
        "    opcion = int(input('Ingrese una opcion: '))\n",
        "    if opcion == 1:\n",
        "        nombre = input('Ingrese el nombre: ')\n",
        "        telefono = input('Ingrese el telefono: ')\n",
        "        agenda[nombre] = telefono\n",
        "        print('Telefono agregado')\n",
        "        print(agenda)\n",
        "\n",
        "    elif opcion == 2:\n",
        "        nombre = input('Ingrese el nombre: ')\n",
        "        if nombre in agenda:\n",
        "            print('El telefono de', nombre, 'es', agenda[nombre])\n",
        "        else:\n",
        "            print('El nombre no se encuentra en la agenda')\n",
        "\n",
        "    elif opcion == 3:\n",
        "        nombre = input('Ingrese el nombre: ')\n",
        "        if nombre in agenda:\n",
        "            del agenda[nombre]\n",
        "            print('Telefono eliminado')\n",
        "        else:\n",
        "            print('El nombre no se encuentra en la agenda')\n",
        "\n",
        "    elif opcion == 4:\n",
        "        print('Saliendo del programa')\n",
        "        break\n",
        "    else:\n",
        "        print('Opcion invalida')\n"
      ],
      "metadata": {
        "colab": {
          "base_uri": "https://localhost:8080/"
        },
        "id": "C9I5MJDPlNZs",
        "outputId": "ed1d1029-ab07-4495-805a-a621bb138050"
      },
      "execution_count": null,
      "outputs": [
        {
          "output_type": "stream",
          "name": "stdout",
          "text": [
            "1. Agregar un telefono\n",
            "2. Consultar un telefono\n",
            "3. Eliminar\n",
            "4. Salir\n"
          ]
        }
      ]
    }
  ]
}